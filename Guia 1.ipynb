{
 "cells": [
  {
   "cell_type": "markdown",
   "metadata": {},
   "source": [
    "## Guía 1 - Procesos Estocásticos"
   ]
  },
  {
   "cell_type": "markdown",
   "metadata": {},
   "source": [
    "### Ejercicio 2"
   ]
  },
  {
   "cell_type": "markdown",
   "metadata": {},
   "source": [
    "Sea $ X $ una VA tal que $ X \\sim \\mathcal{E}(\\lambda) $\n",
    "\n",
    "a) Genere $ N = 10⁴ $ muestras de X \n",
    "\n",
    "b) Calcule la media muestral y varianza muestral de $X$ y comparelas con las teóricas \n",
    "\n",
    "c) Construya el histograma de las muestras de $X$. Normalice el histograma para que tenga area 1 y compare la funcion obtenida con la funcion de densidad de probabilidad teorica."
   ]
  },
  {
   "cell_type": "code",
   "execution_count": 14,
   "metadata": {},
   "outputs": [],
   "source": [
    "import numpy as np\n",
    "import math\n",
    "import matplotlib.pyplot as plt"
   ]
  },
  {
   "cell_type": "code",
   "execution_count": 21,
   "metadata": {},
   "outputs": [
    {
     "name": "stdout",
     "output_type": "stream",
     "text": [
      "[0.47241285 0.94003962 1.01749099 ... 1.45074416 0.34794512 0.17933973]\n"
     ]
    }
   ],
   "source": [
    "expon_random = np.random.exponential(1, 10**4)\n",
    "print(expon_random)"
   ]
  },
  {
   "cell_type": "markdown",
   "metadata": {},
   "source": [
    "La media muestral y varianza muestral se estiman de manera tal que:\n",
    "\n",
    "$$ {X}_n = \\frac{1}{n} \\sum_{i=1}^n X_i = \\frac{X_1+X_2+...+X_n}{n} $$\n",
    "$$ s_n^2 = \\frac 1n \\sum_{i=1}^n \\left(y_i - \\overline{y} \\right)^ 2 = \\left(\\frac{1}{n} \\sum_{i=1}^{n}y_i^2\\right) - \\overline{y}^2 $$"
   ]
  },
  {
   "cell_type": "code",
   "execution_count": 12,
   "metadata": {},
   "outputs": [
    {
     "name": "stdout",
     "output_type": "stream",
     "text": [
      "Muestrales\n",
      "1.0123626595486788\n",
      "1.0446933044590092\n",
      "Teoricas\n",
      "1\n",
      "1\n"
     ]
    }
   ],
   "source": [
    "# Muestrales\n",
    "\n",
    "media_muestral = np.mean(expon_random)\n",
    "var_muestral = np.var(expon_random)\n",
    "\n",
    "print(\"Muestrales\")\n",
    "print(media_muestral)\n",
    "print(var_muestral)\n",
    "\n",
    "# Teoricas\n",
    "media_teorica = 1\n",
    "var_teorica = 1\n",
    "\n",
    "print(\"Teoricas\")\n",
    "print(media_teorica)\n",
    "print(var_teorica)"
   ]
  },
  {
   "cell_type": "code",
   "execution_count": 48,
   "metadata": {},
   "outputs": [
    {
     "data": {
      "image/png": "[encoded data removed]",
      "text/plain": [
       "<Figure size 864x576 with 1 Axes>"
      ]
     },
     "metadata": {
      "needs_background": "light"
     },
     "output_type": "display_data"
    }
   ],
   "source": [
    "from scipy.stats import expon\n",
    "\n",
    "x = np.linspace(expon.ppf(0.01),\n",
    "                expon.ppf(0.99), 100)\n",
    "rv = expon()\n",
    "plt.plot(x, rv.pdf(x), 'k-', lw=2, label='PDF')\n",
    "\n",
    "plt.rcParams[\"figure.figsize\"] = (12,8)\n",
    "plt.hist(expon_random, density = True);\n",
    "plt.xlabel(\"Muestra\")\n",
    "plt.ylabel(\"Frecuencia\")\n",
    "plt.title(\"Histograma exponencial lambda = 1\")\n",
    "plt.axis([0, 10, 0, 1]);\n",
    "plt.legend()\n",
    "\n",
    "plt.show();"
   ]
  },
  {
   "cell_type": "code",
   "execution_count": null,
   "metadata": {},
   "outputs": [],
   "source": []
  }
 ],
 "metadata": {
  "kernelspec": {
   "display_name": "Python 3",
   "language": "python",
   "name": "python3"
  },
  "language_info": {
   "codemirror_mode": {
    "name": "ipython",
    "version": 3
   },
   "file_extension": ".py",
   "mimetype": "text/x-python",
   "name": "python",
   "nbconvert_exporter": "python",
   "pygments_lexer": "ipython3",
   "version": "3.8.2"
  }
 },
 "nbformat": 4,
 "nbformat_minor": 4
}
